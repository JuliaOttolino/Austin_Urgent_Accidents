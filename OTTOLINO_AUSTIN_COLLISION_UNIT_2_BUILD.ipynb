{
  "nbformat": 4,
  "nbformat_minor": 0,
  "metadata": {
    "colab": {
      "name": "OTTOLINO_AUSTIN_COLLISION_UNIT_2_BUILD",
      "provenance": [],
      "authorship_tag": "ABX9TyP1hcaYV11JFzZR5ETpcr+8",
      "include_colab_link": true
    },
    "kernelspec": {
      "display_name": "Python 3",
      "name": "python3"
    },
    "language_info": {
      "name": "python"
    }
  },
  "cells": [
    {
      "cell_type": "markdown",
      "metadata": {
        "id": "view-in-github",
        "colab_type": "text"
      },
      "source": [
        "<a href=\"https://colab.research.google.com/github/JuliaOttolino/Ottolino_Projects/blob/main/OTTOLINO_AUSTIN_COLLISION_UNIT_2_BUILD.ipynb\" target=\"_parent\"><img src=\"https://colab.research.google.com/assets/colab-badge.svg\" alt=\"Open In Colab\"/></a>"
      ]
    },
    {
      "cell_type": "markdown",
      "metadata": {
        "id": "0dGAdb7hFlve"
      },
      "source": [
        "#**AUSTIN COLLISIONS**\n",
        "---\n",
        "###We will attempt to predict the urgent crashes within the Austin City Limits\n",
        "---"
      ]
    },
    {
      "cell_type": "markdown",
      "metadata": {
        "id": "1FEULjCcKDnZ"
      },
      "source": [
        "#Install Needed Packages"
      ]
    },
    {
      "cell_type": "code",
      "metadata": {
        "id": "n1HjVTSMcq9g"
      },
      "source": [
        "%%capture\n",
        "import sys\n",
        "\n",
        "if 'google.colab' in sys.modules:\n",
        "    !pip install category_encoders\n",
        "    !pip install pdpbox"
      ],
      "execution_count": 2,
      "outputs": []
    },
    {
      "cell_type": "markdown",
      "metadata": {
        "id": "IR_HC4-yKIDU"
      },
      "source": [
        "#Import Necessary Modules"
      ]
    },
    {
      "cell_type": "code",
      "metadata": {
        "colab": {
          "base_uri": "https://localhost:8080/"
        },
        "id": "s_ry52KadGUi",
        "outputId": "0acef991-38d8-4f86-9bb8-e9748846a46c"
      },
      "source": [
        "from category_encoders import OrdinalEncoder, OneHotEncoder\n",
        "from scipy.stats import randint, uniform\n",
        "from sklearn.ensemble import RandomForestClassifier,GradientBoostingClassifier\n",
        "from sklearn.impute import SimpleImputer\n",
        "from sklearn.linear_model import LogisticRegression, LinearRegression, Ridge\n",
        "from sklearn.model_selection import train_test_split\n",
        "from sklearn.metrics import accuracy_score\n",
        "from sklearn.metrics import classification_report, roc_curve, plot_confusion_matrix, plot_roc_curve, mean_absolute_error\n",
        "from sklearn.model_selection import KFold, cross_val_score, validation_curve # k-fold CV\n",
        "from sklearn.model_selection import GridSearchCV, RandomizedSearchCV # Hyperparameter tuning\n",
        "from sklearn.pipeline import make_pipeline\n",
        "from sklearn.preprocessing import StandardScaler\n",
        "from sklearn.tree import DecisionTreeClassifier, plot_tree\n",
        "from sklearn.utils import resample\n",
        "from pandas_profiling import ProfileReport\n",
        "from xgboost import XGBClassifier\n",
        "import category_encoders as ce\n",
        "import matplotlib.pyplot as plt\n",
        "import numpy as np\n",
        "import pandas as pd\n",
        "\n",
        "\n",
        "\n",
        "%matplotlib inline\n",
        "\n",
        "!pip install dash\n",
        "from datetime import date\n",
        "import dash\n",
        "from dash.dependencies import Input, Output\n",
        "import dash_html_components as html\n",
        "import dash_core_components as dcc"
      ],
      "execution_count": 3,
      "outputs": [
        {
          "output_type": "stream",
          "name": "stderr",
          "text": [
            "/usr/local/lib/python3.7/dist-packages/statsmodels/tools/_testing.py:19: FutureWarning: pandas.util.testing is deprecated. Use the functions in the public API at pandas.testing instead.\n",
            "  import pandas.util.testing as tm\n"
          ]
        },
        {
          "output_type": "stream",
          "name": "stdout",
          "text": [
            "Collecting dash\n",
            "  Downloading dash-2.0.0-py3-none-any.whl (7.3 MB)\n",
            "\u001b[K     |████████████████████████████████| 7.3 MB 5.0 MB/s \n",
            "\u001b[?25hCollecting dash-core-components==2.0.0\n",
            "  Downloading dash_core_components-2.0.0.tar.gz (3.4 kB)\n",
            "Collecting plotly>=5.0.0\n",
            "  Downloading plotly-5.3.1-py2.py3-none-any.whl (23.9 MB)\n",
            "\u001b[K     |████████████████████████████████| 23.9 MB 2.0 MB/s \n",
            "\u001b[?25hCollecting dash-table==5.0.0\n",
            "  Downloading dash_table-5.0.0.tar.gz (3.4 kB)\n",
            "Collecting flask-compress\n",
            "  Downloading Flask_Compress-1.10.1-py3-none-any.whl (7.9 kB)\n",
            "Collecting dash-html-components==2.0.0\n",
            "  Downloading dash_html_components-2.0.0.tar.gz (3.8 kB)\n",
            "Requirement already satisfied: Flask>=1.0.4 in /usr/local/lib/python3.7/dist-packages (from dash) (1.1.4)\n",
            "Requirement already satisfied: Werkzeug<2.0,>=0.15 in /usr/local/lib/python3.7/dist-packages (from Flask>=1.0.4->dash) (1.0.1)\n",
            "Requirement already satisfied: click<8.0,>=5.1 in /usr/local/lib/python3.7/dist-packages (from Flask>=1.0.4->dash) (7.1.2)\n",
            "Requirement already satisfied: itsdangerous<2.0,>=0.24 in /usr/local/lib/python3.7/dist-packages (from Flask>=1.0.4->dash) (1.1.0)\n",
            "Requirement already satisfied: Jinja2<3.0,>=2.10.1 in /usr/local/lib/python3.7/dist-packages (from Flask>=1.0.4->dash) (2.11.3)\n",
            "Requirement already satisfied: MarkupSafe>=0.23 in /usr/local/lib/python3.7/dist-packages (from Jinja2<3.0,>=2.10.1->Flask>=1.0.4->dash) (2.0.1)\n",
            "Requirement already satisfied: six in /usr/local/lib/python3.7/dist-packages (from plotly>=5.0.0->dash) (1.15.0)\n",
            "Collecting tenacity>=6.2.0\n",
            "  Downloading tenacity-8.0.1-py3-none-any.whl (24 kB)\n",
            "Collecting brotli\n",
            "  Downloading Brotli-1.0.9-cp37-cp37m-manylinux1_x86_64.whl (357 kB)\n",
            "\u001b[K     |████████████████████████████████| 357 kB 15.7 MB/s \n",
            "\u001b[?25hBuilding wheels for collected packages: dash-core-components, dash-html-components, dash-table\n",
            "  Building wheel for dash-core-components (setup.py) ... \u001b[?25l\u001b[?25hdone\n",
            "  Created wheel for dash-core-components: filename=dash_core_components-2.0.0-py3-none-any.whl size=3821 sha256=0a57c3095ce091f4f72563642a1646e82c5a052d717ca635bb4752c8a9b9371d\n",
            "  Stored in directory: /root/.cache/pip/wheels/00/f9/c7/1a6437d794ed753ea9bc9079e761d4fc803a1f1f5d3697b9ec\n",
            "  Building wheel for dash-html-components (setup.py) ... \u001b[?25l\u001b[?25hdone\n",
            "  Created wheel for dash-html-components: filename=dash_html_components-2.0.0-py3-none-any.whl size=4089 sha256=6992d6addcfaeb51c9d8b7c2015bbbe1b07a1b15160e3a6ed7ae9ed83e9e50e1\n",
            "  Stored in directory: /root/.cache/pip/wheels/ec/6b/81/05aceabd8b27f724e2c96784016287cc1bfbc349ebfda451de\n",
            "  Building wheel for dash-table (setup.py) ... \u001b[?25l\u001b[?25hdone\n",
            "  Created wheel for dash-table: filename=dash_table-5.0.0-py3-none-any.whl size=3911 sha256=aba2996a614bed87c038f05faf8f583bfd3997f982fb2c9d72080a0786254837\n",
            "  Stored in directory: /root/.cache/pip/wheels/85/5d/4e/7c276b57992951dbe770bf5caad6448d0539c510663aefd2e2\n",
            "Successfully built dash-core-components dash-html-components dash-table\n",
            "Installing collected packages: tenacity, brotli, plotly, flask-compress, dash-table, dash-html-components, dash-core-components, dash\n",
            "  Attempting uninstall: plotly\n",
            "    Found existing installation: plotly 4.4.1\n",
            "    Uninstalling plotly-4.4.1:\n",
            "      Successfully uninstalled plotly-4.4.1\n",
            "Successfully installed brotli-1.0.9 dash-2.0.0 dash-core-components-2.0.0 dash-html-components-2.0.0 dash-table-5.0.0 flask-compress-1.10.1 plotly-5.3.1 tenacity-8.0.1\n"
          ]
        },
        {
          "output_type": "stream",
          "name": "stderr",
          "text": [
            "/usr/local/lib/python3.7/dist-packages/ipykernel_launcher.py:30: UserWarning: \n",
            "The dash_html_components package is deprecated. Please replace\n",
            "`import dash_html_components as html` with `from dash import html`\n",
            "/usr/local/lib/python3.7/dist-packages/ipykernel_launcher.py:31: UserWarning: \n",
            "The dash_core_components package is deprecated. Please replace\n",
            "`import dash_core_components as dcc` with `from dash import dcc`\n"
          ]
        }
      ]
    },
    {
      "cell_type": "markdown",
      "metadata": {
        "id": "QPB1IZpWKcSG"
      },
      "source": [
        "#Load Data"
      ]
    },
    {
      "cell_type": "code",
      "metadata": {
        "id": "_F6o8oiVYaRc"
      },
      "source": [
        "url = 'https://raw.githubusercontent.com/JuliaOttolino/Hola-Martians/main/Real-Time_Traffic_Incident_Reports.csv'\n",
        "\n",
        "u = 'https://raw.githubusercontent.com/JuliaOttolino/Hola-Martians/main/history_data.csv'\n",
        "\n",
        "d = pd.read_csv(u)#,index_col='Date time')"
      ],
      "execution_count": 4,
      "outputs": []
    },
    {
      "cell_type": "code",
      "metadata": {
        "colab": {
          "base_uri": "https://localhost:8080/",
          "height": 981
        },
        "id": "zG9KD4fhi79g",
        "outputId": "b3c6bec4-af50-4dd3-de00-dc24cf4c87e4"
      },
      "source": [
        "\n",
        "d"
      ],
      "execution_count": 5,
      "outputs": [
        {
          "output_type": "execute_result",
          "data": {
            "text/html": [
              "<div>\n",
              "<style scoped>\n",
              "    .dataframe tbody tr th:only-of-type {\n",
              "        vertical-align: middle;\n",
              "    }\n",
              "\n",
              "    .dataframe tbody tr th {\n",
              "        vertical-align: top;\n",
              "    }\n",
              "\n",
              "    .dataframe thead th {\n",
              "        text-align: right;\n",
              "    }\n",
              "</style>\n",
              "<table border=\"1\" class=\"dataframe\">\n",
              "  <thead>\n",
              "    <tr style=\"text-align: right;\">\n",
              "      <th></th>\n",
              "      <th>Name</th>\n",
              "      <th>Date time</th>\n",
              "      <th>Maximum Temperature</th>\n",
              "      <th>Minimum Temperature</th>\n",
              "      <th>Temperature</th>\n",
              "      <th>Wind Chill</th>\n",
              "      <th>Heat Index</th>\n",
              "      <th>Precipitation</th>\n",
              "      <th>Snow</th>\n",
              "      <th>Snow Depth</th>\n",
              "      <th>Wind Speed</th>\n",
              "      <th>Wind Direction</th>\n",
              "      <th>Wind Gust</th>\n",
              "      <th>Visibility</th>\n",
              "      <th>Cloud Cover</th>\n",
              "      <th>Relative Humidity</th>\n",
              "      <th>Conditions</th>\n",
              "    </tr>\n",
              "  </thead>\n",
              "  <tbody>\n",
              "    <tr>\n",
              "      <th>0</th>\n",
              "      <td>Austin, TX, United States</td>\n",
              "      <td>10/13/2020</td>\n",
              "      <td>89.3</td>\n",
              "      <td>57.5</td>\n",
              "      <td>72.3</td>\n",
              "      <td>NaN</td>\n",
              "      <td>86.2</td>\n",
              "      <td>0.00</td>\n",
              "      <td>0.0</td>\n",
              "      <td>0.0</td>\n",
              "      <td>4.2</td>\n",
              "      <td>124.63</td>\n",
              "      <td>NaN</td>\n",
              "      <td>9.9</td>\n",
              "      <td>9.1</td>\n",
              "      <td>44.13</td>\n",
              "      <td>Clear</td>\n",
              "    </tr>\n",
              "    <tr>\n",
              "      <th>1</th>\n",
              "      <td>Austin, TX, United States</td>\n",
              "      <td>10/14/2020</td>\n",
              "      <td>92.3</td>\n",
              "      <td>60.7</td>\n",
              "      <td>75.8</td>\n",
              "      <td>NaN</td>\n",
              "      <td>94.3</td>\n",
              "      <td>0.00</td>\n",
              "      <td>0.0</td>\n",
              "      <td>0.0</td>\n",
              "      <td>9.7</td>\n",
              "      <td>132.25</td>\n",
              "      <td>22.8</td>\n",
              "      <td>9.9</td>\n",
              "      <td>5.4</td>\n",
              "      <td>57.49</td>\n",
              "      <td>Clear</td>\n",
              "    </tr>\n",
              "    <tr>\n",
              "      <th>2</th>\n",
              "      <td>Austin, TX, United States</td>\n",
              "      <td>10/15/2020</td>\n",
              "      <td>88.4</td>\n",
              "      <td>67.1</td>\n",
              "      <td>77.7</td>\n",
              "      <td>NaN</td>\n",
              "      <td>91.1</td>\n",
              "      <td>0.00</td>\n",
              "      <td>0.0</td>\n",
              "      <td>0.0</td>\n",
              "      <td>14.3</td>\n",
              "      <td>206.67</td>\n",
              "      <td>30.4</td>\n",
              "      <td>9.4</td>\n",
              "      <td>75.7</td>\n",
              "      <td>66.02</td>\n",
              "      <td>Overcast</td>\n",
              "    </tr>\n",
              "    <tr>\n",
              "      <th>3</th>\n",
              "      <td>Austin, TX, United States</td>\n",
              "      <td>10/16/2020</td>\n",
              "      <td>76.9</td>\n",
              "      <td>59.9</td>\n",
              "      <td>68.1</td>\n",
              "      <td>NaN</td>\n",
              "      <td>NaN</td>\n",
              "      <td>0.00</td>\n",
              "      <td>0.0</td>\n",
              "      <td>0.0</td>\n",
              "      <td>18.3</td>\n",
              "      <td>40.75</td>\n",
              "      <td>37.9</td>\n",
              "      <td>9.9</td>\n",
              "      <td>46.8</td>\n",
              "      <td>38.73</td>\n",
              "      <td>Partially cloudy</td>\n",
              "    </tr>\n",
              "    <tr>\n",
              "      <th>4</th>\n",
              "      <td>Austin, TX, United States</td>\n",
              "      <td>10/17/2020</td>\n",
              "      <td>78.9</td>\n",
              "      <td>55.4</td>\n",
              "      <td>67.6</td>\n",
              "      <td>NaN</td>\n",
              "      <td>NaN</td>\n",
              "      <td>0.01</td>\n",
              "      <td>0.0</td>\n",
              "      <td>0.0</td>\n",
              "      <td>11.4</td>\n",
              "      <td>135.79</td>\n",
              "      <td>25.3</td>\n",
              "      <td>8.8</td>\n",
              "      <td>87.9</td>\n",
              "      <td>69.12</td>\n",
              "      <td>Rain, Overcast</td>\n",
              "    </tr>\n",
              "    <tr>\n",
              "      <th>...</th>\n",
              "      <td>...</td>\n",
              "      <td>...</td>\n",
              "      <td>...</td>\n",
              "      <td>...</td>\n",
              "      <td>...</td>\n",
              "      <td>...</td>\n",
              "      <td>...</td>\n",
              "      <td>...</td>\n",
              "      <td>...</td>\n",
              "      <td>...</td>\n",
              "      <td>...</td>\n",
              "      <td>...</td>\n",
              "      <td>...</td>\n",
              "      <td>...</td>\n",
              "      <td>...</td>\n",
              "      <td>...</td>\n",
              "      <td>...</td>\n",
              "    </tr>\n",
              "    <tr>\n",
              "      <th>363</th>\n",
              "      <td>Austin, TX, United States</td>\n",
              "      <td>10/11/2021</td>\n",
              "      <td>82.4</td>\n",
              "      <td>61.9</td>\n",
              "      <td>71.7</td>\n",
              "      <td>NaN</td>\n",
              "      <td>81.3</td>\n",
              "      <td>0.72</td>\n",
              "      <td>0.0</td>\n",
              "      <td>0.0</td>\n",
              "      <td>13.2</td>\n",
              "      <td>139.58</td>\n",
              "      <td>35.7</td>\n",
              "      <td>9.4</td>\n",
              "      <td>38.7</td>\n",
              "      <td>62.20</td>\n",
              "      <td>Rain, Partially cloudy</td>\n",
              "    </tr>\n",
              "    <tr>\n",
              "      <th>364</th>\n",
              "      <td>Austin, TX, United States</td>\n",
              "      <td>10/12/2021</td>\n",
              "      <td>87.2</td>\n",
              "      <td>69.9</td>\n",
              "      <td>77.2</td>\n",
              "      <td>NaN</td>\n",
              "      <td>94.2</td>\n",
              "      <td>0.05</td>\n",
              "      <td>0.0</td>\n",
              "      <td>0.0</td>\n",
              "      <td>13.1</td>\n",
              "      <td>143.08</td>\n",
              "      <td>26.5</td>\n",
              "      <td>8.1</td>\n",
              "      <td>79.5</td>\n",
              "      <td>77.97</td>\n",
              "      <td>Rain, Overcast</td>\n",
              "    </tr>\n",
              "    <tr>\n",
              "      <th>365</th>\n",
              "      <td>Austin, TX, United States</td>\n",
              "      <td>10/13/2021</td>\n",
              "      <td>87.5</td>\n",
              "      <td>67.8</td>\n",
              "      <td>80.7</td>\n",
              "      <td>NaN</td>\n",
              "      <td>92.9</td>\n",
              "      <td>1.04</td>\n",
              "      <td>0.0</td>\n",
              "      <td>0.0</td>\n",
              "      <td>10.9</td>\n",
              "      <td>165.00</td>\n",
              "      <td>24.7</td>\n",
              "      <td>9.3</td>\n",
              "      <td>90.7</td>\n",
              "      <td>74.33</td>\n",
              "      <td>Rain, Overcast</td>\n",
              "    </tr>\n",
              "    <tr>\n",
              "      <th>366</th>\n",
              "      <td>Austin, TX, United States</td>\n",
              "      <td>10/14/2021</td>\n",
              "      <td>78.3</td>\n",
              "      <td>67.6</td>\n",
              "      <td>73.0</td>\n",
              "      <td>NaN</td>\n",
              "      <td>NaN</td>\n",
              "      <td>1.15</td>\n",
              "      <td>0.0</td>\n",
              "      <td>0.0</td>\n",
              "      <td>8.0</td>\n",
              "      <td>95.58</td>\n",
              "      <td>17.2</td>\n",
              "      <td>8.6</td>\n",
              "      <td>78.9</td>\n",
              "      <td>87.76</td>\n",
              "      <td>Rain, Overcast</td>\n",
              "    </tr>\n",
              "    <tr>\n",
              "      <th>367</th>\n",
              "      <td>Austin, TX, United States</td>\n",
              "      <td>10/15/2021</td>\n",
              "      <td>87.9</td>\n",
              "      <td>68.6</td>\n",
              "      <td>75.6</td>\n",
              "      <td>NaN</td>\n",
              "      <td>92.9</td>\n",
              "      <td>0.00</td>\n",
              "      <td>0.0</td>\n",
              "      <td>0.0</td>\n",
              "      <td>14.1</td>\n",
              "      <td>266.64</td>\n",
              "      <td>27.0</td>\n",
              "      <td>8.3</td>\n",
              "      <td>43.4</td>\n",
              "      <td>73.51</td>\n",
              "      <td>Partially cloudy</td>\n",
              "    </tr>\n",
              "  </tbody>\n",
              "</table>\n",
              "<p>368 rows × 17 columns</p>\n",
              "</div>"
            ],
            "text/plain": [
              "                          Name  ...              Conditions\n",
              "0    Austin, TX, United States  ...                   Clear\n",
              "1    Austin, TX, United States  ...                   Clear\n",
              "2    Austin, TX, United States  ...                Overcast\n",
              "3    Austin, TX, United States  ...        Partially cloudy\n",
              "4    Austin, TX, United States  ...          Rain, Overcast\n",
              "..                         ...  ...                     ...\n",
              "363  Austin, TX, United States  ...  Rain, Partially cloudy\n",
              "364  Austin, TX, United States  ...          Rain, Overcast\n",
              "365  Austin, TX, United States  ...          Rain, Overcast\n",
              "366  Austin, TX, United States  ...          Rain, Overcast\n",
              "367  Austin, TX, United States  ...        Partially cloudy\n",
              "\n",
              "[368 rows x 17 columns]"
            ]
          },
          "metadata": {},
          "execution_count": 5
        }
      ]
    },
    {
      "cell_type": "markdown",
      "metadata": {
        "id": "ZVJR7DE5Kqhj"
      },
      "source": [
        "#Wrangle and Merge both Dataframes"
      ]
    },
    {
      "cell_type": "code",
      "metadata": {
        "id": "ezpuT21of47A"
      },
      "source": [
        "drop_col = ['Status Date', 'Location', 'Status', 'Traffic Report ID','Date time','Date time','Address', 'Wind Chill','Heat Index','Wind Gust','Maximum Temperature',\t'Minimum Temperature', 'Conditions', 'Snow', 'Wind Direction', 'Cloud Cover',\t'Relative Humidity']#, 'Maximum Temperature','Cloud Cover', 'Relative Humidity']"
      ],
      "execution_count": 6,
      "outputs": []
    },
    {
      "cell_type": "code",
      "metadata": {
        "colab": {
          "base_uri": "https://localhost:8080/",
          "height": 492
        },
        "id": "QOSocwPjVcaC",
        "outputId": "be60ab19-1ec2-4eb4-c066-33a61e77a0ee"
      },
      "source": [
        "def wrangle(df): \n",
        "  df = pd.read_csv(url,converters={'Issue Reported': lambda x: int(x == 'Crash Urgent')}) #make target binary\n",
        "  \n",
        "  #Get Date columns to match for later merge\n",
        "  df['Published Date'] = df['Published Date'].astype(str)\n",
        "  df['Published Date'] = df['Published Date'].str[:10]\n",
        "\n",
        "  #Drop outliers due to imputation errors\n",
        "  df = df[(df['Latitude'] >= np.percentile(df['Latitude'], 0.18)) & \n",
        "          (df['Latitude'] < np.percentile(df['Latitude'], 99.95)) &\n",
        "          (df['Longitude'] >= np.percentile(df['Longitude'], 0.15))]\n",
        "\n",
        "  df = df.rename(columns={'Issue Reported':'Urgent Accidents'})\n",
        "\n",
        "  #Merge Data\n",
        "  df = df.rename(columns={'Published Date':'Date time'})\n",
        "  df = pd.merge(df, d, on=['Date time'], how='outer')\n",
        "\n",
        "  #Create index\n",
        "  df.set_index(df['Date time'],inplace=True)\n",
        "\n",
        "  #Drop columns\n",
        "  constant_columns = [col for col in df.columns if df[col].nunique() == 1]\n",
        "  df = df.drop(columns=constant_columns)\n",
        "\n",
        "  df.drop(columns= drop_col,inplace=True)\n",
        "\n",
        "  \n",
        "  \n",
        "\n",
        "\n",
        "   \n",
        "\n",
        "\n",
        "  return df\n",
        "\n",
        "df = wrangle(url)\n",
        "\n",
        "df"
      ],
      "execution_count": 7,
      "outputs": [
        {
          "output_type": "execute_result",
          "data": {
            "text/html": [
              "<div>\n",
              "<style scoped>\n",
              "    .dataframe tbody tr th:only-of-type {\n",
              "        vertical-align: middle;\n",
              "    }\n",
              "\n",
              "    .dataframe tbody tr th {\n",
              "        vertical-align: top;\n",
              "    }\n",
              "\n",
              "    .dataframe thead th {\n",
              "        text-align: right;\n",
              "    }\n",
              "</style>\n",
              "<table border=\"1\" class=\"dataframe\">\n",
              "  <thead>\n",
              "    <tr style=\"text-align: right;\">\n",
              "      <th></th>\n",
              "      <th>Urgent Accidents</th>\n",
              "      <th>Latitude</th>\n",
              "      <th>Longitude</th>\n",
              "      <th>Temperature</th>\n",
              "      <th>Precipitation</th>\n",
              "      <th>Snow Depth</th>\n",
              "      <th>Wind Speed</th>\n",
              "      <th>Visibility</th>\n",
              "    </tr>\n",
              "    <tr>\n",
              "      <th>Date time</th>\n",
              "      <th></th>\n",
              "      <th></th>\n",
              "      <th></th>\n",
              "      <th></th>\n",
              "      <th></th>\n",
              "      <th></th>\n",
              "      <th></th>\n",
              "      <th></th>\n",
              "    </tr>\n",
              "  </thead>\n",
              "  <tbody>\n",
              "    <tr>\n",
              "      <th>10/13/2020</th>\n",
              "      <td>0</td>\n",
              "      <td>30.446400</td>\n",
              "      <td>-97.734289</td>\n",
              "      <td>72.3</td>\n",
              "      <td>0.0</td>\n",
              "      <td>0.0</td>\n",
              "      <td>4.2</td>\n",
              "      <td>9.9</td>\n",
              "    </tr>\n",
              "    <tr>\n",
              "      <th>10/13/2020</th>\n",
              "      <td>0</td>\n",
              "      <td>30.303977</td>\n",
              "      <td>-97.757485</td>\n",
              "      <td>72.3</td>\n",
              "      <td>0.0</td>\n",
              "      <td>0.0</td>\n",
              "      <td>4.2</td>\n",
              "      <td>9.9</td>\n",
              "    </tr>\n",
              "    <tr>\n",
              "      <th>10/13/2020</th>\n",
              "      <td>0</td>\n",
              "      <td>30.267144</td>\n",
              "      <td>-97.757313</td>\n",
              "      <td>72.3</td>\n",
              "      <td>0.0</td>\n",
              "      <td>0.0</td>\n",
              "      <td>4.2</td>\n",
              "      <td>9.9</td>\n",
              "    </tr>\n",
              "    <tr>\n",
              "      <th>10/13/2020</th>\n",
              "      <td>0</td>\n",
              "      <td>30.370967</td>\n",
              "      <td>-97.802974</td>\n",
              "      <td>72.3</td>\n",
              "      <td>0.0</td>\n",
              "      <td>0.0</td>\n",
              "      <td>4.2</td>\n",
              "      <td>9.9</td>\n",
              "    </tr>\n",
              "    <tr>\n",
              "      <th>10/13/2020</th>\n",
              "      <td>0</td>\n",
              "      <td>30.166214</td>\n",
              "      <td>-97.801260</td>\n",
              "      <td>72.3</td>\n",
              "      <td>0.0</td>\n",
              "      <td>0.0</td>\n",
              "      <td>4.2</td>\n",
              "      <td>9.9</td>\n",
              "    </tr>\n",
              "    <tr>\n",
              "      <th>...</th>\n",
              "      <td>...</td>\n",
              "      <td>...</td>\n",
              "      <td>...</td>\n",
              "      <td>...</td>\n",
              "      <td>...</td>\n",
              "      <td>...</td>\n",
              "      <td>...</td>\n",
              "      <td>...</td>\n",
              "    </tr>\n",
              "    <tr>\n",
              "      <th>10/15/2021</th>\n",
              "      <td>0</td>\n",
              "      <td>30.182803</td>\n",
              "      <td>-97.541584</td>\n",
              "      <td>75.6</td>\n",
              "      <td>0.0</td>\n",
              "      <td>0.0</td>\n",
              "      <td>14.1</td>\n",
              "      <td>8.3</td>\n",
              "    </tr>\n",
              "    <tr>\n",
              "      <th>10/15/2021</th>\n",
              "      <td>0</td>\n",
              "      <td>30.286523</td>\n",
              "      <td>-97.704868</td>\n",
              "      <td>75.6</td>\n",
              "      <td>0.0</td>\n",
              "      <td>0.0</td>\n",
              "      <td>14.1</td>\n",
              "      <td>8.3</td>\n",
              "    </tr>\n",
              "    <tr>\n",
              "      <th>10/15/2021</th>\n",
              "      <td>0</td>\n",
              "      <td>30.167162</td>\n",
              "      <td>-97.791132</td>\n",
              "      <td>75.6</td>\n",
              "      <td>0.0</td>\n",
              "      <td>0.0</td>\n",
              "      <td>14.1</td>\n",
              "      <td>8.3</td>\n",
              "    </tr>\n",
              "    <tr>\n",
              "      <th>10/15/2021</th>\n",
              "      <td>1</td>\n",
              "      <td>30.225856</td>\n",
              "      <td>-97.702845</td>\n",
              "      <td>75.6</td>\n",
              "      <td>0.0</td>\n",
              "      <td>0.0</td>\n",
              "      <td>14.1</td>\n",
              "      <td>8.3</td>\n",
              "    </tr>\n",
              "    <tr>\n",
              "      <th>10/15/2021</th>\n",
              "      <td>0</td>\n",
              "      <td>30.028552</td>\n",
              "      <td>-97.683480</td>\n",
              "      <td>75.6</td>\n",
              "      <td>0.0</td>\n",
              "      <td>0.0</td>\n",
              "      <td>14.1</td>\n",
              "      <td>8.3</td>\n",
              "    </tr>\n",
              "  </tbody>\n",
              "</table>\n",
              "<p>49862 rows × 8 columns</p>\n",
              "</div>"
            ],
            "text/plain": [
              "            Urgent Accidents   Latitude  ...  Wind Speed  Visibility\n",
              "Date time                                ...                        \n",
              "10/13/2020                 0  30.446400  ...         4.2         9.9\n",
              "10/13/2020                 0  30.303977  ...         4.2         9.9\n",
              "10/13/2020                 0  30.267144  ...         4.2         9.9\n",
              "10/13/2020                 0  30.370967  ...         4.2         9.9\n",
              "10/13/2020                 0  30.166214  ...         4.2         9.9\n",
              "...                      ...        ...  ...         ...         ...\n",
              "10/15/2021                 0  30.182803  ...        14.1         8.3\n",
              "10/15/2021                 0  30.286523  ...        14.1         8.3\n",
              "10/15/2021                 0  30.167162  ...        14.1         8.3\n",
              "10/15/2021                 1  30.225856  ...        14.1         8.3\n",
              "10/15/2021                 0  30.028552  ...        14.1         8.3\n",
              "\n",
              "[49862 rows x 8 columns]"
            ]
          },
          "metadata": {},
          "execution_count": 7
        }
      ]
    },
    {
      "cell_type": "code",
      "metadata": {
        "colab": {
          "base_uri": "https://localhost:8080/"
        },
        "id": "SdB8ZpIgJVfi",
        "outputId": "b390bc6c-7dc6-4c3e-8d48-70b171618bc3"
      },
      "source": [
        "df['Longitude'].max()"
      ],
      "execution_count": 8,
      "outputs": [
        {
          "output_type": "execute_result",
          "data": {
            "text/plain": [
              "-97.375361"
            ]
          },
          "metadata": {},
          "execution_count": 8
        }
      ]
    },
    {
      "cell_type": "code",
      "metadata": {
        "colab": {
          "base_uri": "https://localhost:8080/"
        },
        "id": "FcPqhfLwJ_es",
        "outputId": "ba464046-4930-445a-e22b-3da35343debc"
      },
      "source": [
        "df['Latitude'].max()"
      ],
      "execution_count": 9,
      "outputs": [
        {
          "output_type": "execute_result",
          "data": {
            "text/plain": [
              "30.596348"
            ]
          },
          "metadata": {},
          "execution_count": 9
        }
      ]
    },
    {
      "cell_type": "code",
      "metadata": {
        "colab": {
          "base_uri": "https://localhost:8080/"
        },
        "id": "zLA_63cpJEnF",
        "outputId": "a6864ed5-7ebb-4fc1-89c9-1208a0395191"
      },
      "source": [
        "df['Latitude'].min()"
      ],
      "execution_count": 10,
      "outputs": [
        {
          "output_type": "execute_result",
          "data": {
            "text/plain": [
              "30.005806"
            ]
          },
          "metadata": {},
          "execution_count": 10
        }
      ]
    },
    {
      "cell_type": "code",
      "metadata": {
        "colab": {
          "base_uri": "https://localhost:8080/"
        },
        "id": "N1nItYUf9UyO",
        "outputId": "c5629540-208c-47ab-e0a3-dc5a980b2722"
      },
      "source": [
        "df.dtypes"
      ],
      "execution_count": 11,
      "outputs": [
        {
          "output_type": "execute_result",
          "data": {
            "text/plain": [
              "Urgent Accidents      int64\n",
              "Latitude            float64\n",
              "Longitude           float64\n",
              "Temperature         float64\n",
              "Precipitation       float64\n",
              "Snow Depth          float64\n",
              "Wind Speed          float64\n",
              "Visibility          float64\n",
              "dtype: object"
            ]
          },
          "metadata": {},
          "execution_count": 11
        }
      ]
    },
    {
      "cell_type": "code",
      "metadata": {
        "colab": {
          "base_uri": "https://localhost:8080/"
        },
        "id": "3O7tYPhGGrzG",
        "outputId": "034fcf5e-d8cf-4aa9-dd86-f08283d28d5c"
      },
      "source": [
        "12012/(38041+12012)"
      ],
      "execution_count": 12,
      "outputs": [
        {
          "output_type": "execute_result",
          "data": {
            "text/plain": [
              "0.2399856152478373"
            ]
          },
          "metadata": {},
          "execution_count": 12
        }
      ]
    },
    {
      "cell_type": "markdown",
      "metadata": {
        "id": "It6QKgm60sme"
      },
      "source": [
        "#Balance Target Column"
      ]
    },
    {
      "cell_type": "code",
      "metadata": {
        "colab": {
          "base_uri": "https://localhost:8080/"
        },
        "id": "ssFzQUUIiQ9N",
        "outputId": "2e941ce6-6e18-4e66-d7cc-0d92be0cf17a"
      },
      "source": [
        "df['Urgent Accidents'].value_counts()"
      ],
      "execution_count": 13,
      "outputs": [
        {
          "output_type": "execute_result",
          "data": {
            "text/plain": [
              "0    37856\n",
              "1    12006\n",
              "Name: Urgent Accidents, dtype: int64"
            ]
          },
          "metadata": {},
          "execution_count": 13
        }
      ]
    },
    {
      "cell_type": "code",
      "metadata": {
        "id": "qTy2bPpR7yLt"
      },
      "source": [
        "df_minority = df[df['Urgent Accidents']==1]\n",
        "df_majority = df[df['Urgent Accidents']==0]"
      ],
      "execution_count": 14,
      "outputs": []
    },
    {
      "cell_type": "code",
      "metadata": {
        "id": "RmxQHYkm7yBN"
      },
      "source": [
        "maj_class = resample(df_majority, \n",
        "                                 replace=True,     \n",
        "                                 n_samples=12012,    \n",
        "                                 random_state=100)"
      ],
      "execution_count": 15,
      "outputs": []
    },
    {
      "cell_type": "code",
      "metadata": {
        "id": "I6SdVwq08k4B"
      },
      "source": [
        "df=pd.concat([df_minority,maj_class])"
      ],
      "execution_count": 16,
      "outputs": []
    },
    {
      "cell_type": "code",
      "metadata": {
        "colab": {
          "base_uri": "https://localhost:8080/"
        },
        "id": "2yB8XE_U8kpr",
        "outputId": "7b66aa3c-2361-4dae-eb3e-c07466a278f9"
      },
      "source": [
        "df['Urgent Accidents']"
      ],
      "execution_count": 17,
      "outputs": [
        {
          "output_type": "execute_result",
          "data": {
            "text/plain": [
              "Date time\n",
              "10/13/2020    1\n",
              "10/13/2020    1\n",
              "10/13/2020    1\n",
              "10/13/2020    1\n",
              "10/14/2020    1\n",
              "             ..\n",
              "10/13/2021    0\n",
              "04/16/2021    0\n",
              "11/21/2020    0\n",
              "11/06/2020    0\n",
              "03/11/2021    0\n",
              "Name: Urgent Accidents, Length: 24018, dtype: int64"
            ]
          },
          "metadata": {},
          "execution_count": 17
        }
      ]
    },
    {
      "cell_type": "markdown",
      "metadata": {
        "id": "-Lq8_X-0LG6Z"
      },
      "source": [
        "#Create the feature matrix and target array"
      ]
    },
    {
      "cell_type": "code",
      "metadata": {
        "id": "LawpGxLJfqAx"
      },
      "source": [
        "target = 'Urgent Accidents'\n",
        "\n",
        "y = df[target]\n",
        "X = df.drop(columns=target)"
      ],
      "execution_count": 18,
      "outputs": []
    },
    {
      "cell_type": "markdown",
      "metadata": {
        "id": "KHjMiB-3LmKH"
      },
      "source": [
        "#Create a train/test split"
      ]
    },
    {
      "cell_type": "code",
      "metadata": {
        "id": "MedOhU-9ofrL"
      },
      "source": [
        "#mask = df.index < '04/2021'\n",
        "\n",
        "#X_train, y_train = X[mask], y[mask]\n",
        "#X_val, y_val = X[~mask], y[~mask]\n",
        "\n",
        "X_train, X_val, y_train, y_val = train_test_split(X, y, test_size=0.4, random_state=42)\n",
        "\n",
        "assert len(X_train) + len(X_val) == len(X)"
      ],
      "execution_count": 19,
      "outputs": []
    },
    {
      "cell_type": "code",
      "metadata": {
        "id": "pqP-r8LD7XTr"
      },
      "source": [
        ""
      ],
      "execution_count": 19,
      "outputs": []
    },
    {
      "cell_type": "markdown",
      "metadata": {
        "id": "NRhf_I6mMKig"
      },
      "source": [
        "#Establish the Baseline Accuracy"
      ]
    },
    {
      "cell_type": "code",
      "metadata": {
        "colab": {
          "base_uri": "https://localhost:8080/"
        },
        "id": "LWu9wzMXo-5p",
        "outputId": "10afae24-932a-4c18-a1b5-f279ec3bf554"
      },
      "source": [
        "baseline_acc = y_train.value_counts(normalize=True).max()\n",
        "print('Baseline accuracy:', baseline_acc)"
      ],
      "execution_count": 20,
      "outputs": [
        {
          "output_type": "stream",
          "name": "stdout",
          "text": [
            "Baseline accuracy: 0.5011103400416378\n"
          ]
        }
      ]
    },
    {
      "cell_type": "markdown",
      "metadata": {
        "id": "ci-nPoWxNOUd"
      },
      "source": [
        "#Build Models\n",
        "\n",
        "- `RandomForestClassifier`\n",
        "- `XGBClassifier`"
      ]
    },
    {
      "cell_type": "code",
      "metadata": {
        "id": "R78yozCaPTSA"
      },
      "source": [
        "model_rf = make_pipeline(\n",
        "    OrdinalEncoder(),\n",
        "    SimpleImputer(),\n",
        "    RandomForestClassifier(max_depth=15,max_features=0.09997491581800289,n_estimators = 137, random_state=42) # n_estimators default it 100 so changing 25 for time effectiveness.\n",
        ")\n",
        "\n",
        "# model_rf.fit(X_train,y_train) #if you want to compare cv with train-val process"
      ],
      "execution_count": 21,
      "outputs": []
    },
    {
      "cell_type": "code",
      "metadata": {
        "id": "3ekJdvEIrjxV"
      },
      "source": [
        "model_xgb = make_pipeline(\n",
        "    OrdinalEncoder(cols=[], drop_invariant=False,handle_missing='value',\n",
        "                   handle_unknown='value',mapping=[], return_df=True,\n",
        "                   verbose=0),\n",
        "    OneHotEncoder(),\n",
        "    SimpleImputer(add_indicator=False, copy=True, fill_value=None,\n",
        "                  strategy='mean',verbose=0),\n",
        "    GradientBoostingClassifier(n_estimators=5, max_depth = 5, random_state=0,\n",
        "                               max_features = 0.9507143064099162)\n",
        ")\n",
        "\n",
        "model_xgb.fit(X_train, y_train);"
      ],
      "execution_count": 77,
      "outputs": []
    },
    {
      "cell_type": "markdown",
      "metadata": {
        "id": "HnYm5FOGQNat"
      },
      "source": [
        "#Tune Model"
      ]
    },
    {
      "cell_type": "code",
      "metadata": {
        "colab": {
          "base_uri": "https://localhost:8080/"
        },
        "id": "pr9B6oXNQbUJ",
        "outputId": "7e805da6-f81b-489c-d9db-cce8743aefcf"
      },
      "source": [
        "param_rf = { \n",
        "    'n_estimators': randint(5,50,100), \n",
        "    'max_depth': [5, 10, 15, 20, None], \n",
        "    'max_features': uniform(0, 1), \n",
        "}\n",
        "\n",
        "model_rfrs = RandomizedSearchCV(\n",
        "    RandomForestClassifier(random_state=42), \n",
        "    param_distributions=param_rf, \n",
        "    n_iter=5, \n",
        "    cv=5, \n",
        "    verbose=10, \n",
        "    n_jobs=-1, \n",
        "    random_state=42\n",
        ")\n",
        "\n",
        "model_rfrs.fit(X, y);"
      ],
      "execution_count": 72,
      "outputs": [
        {
          "output_type": "stream",
          "name": "stdout",
          "text": [
            "Fitting 5 folds for each of 5 candidates, totalling 25 fits\n"
          ]
        },
        {
          "output_type": "stream",
          "name": "stderr",
          "text": [
            "[Parallel(n_jobs=-1)]: Using backend LokyBackend with 2 concurrent workers.\n",
            "[Parallel(n_jobs=-1)]: Done   1 tasks      | elapsed:   16.3s\n",
            "[Parallel(n_jobs=-1)]: Done   4 tasks      | elapsed:   31.7s\n",
            "[Parallel(n_jobs=-1)]: Done   9 tasks      | elapsed:  1.0min\n",
            "[Parallel(n_jobs=-1)]: Done  14 tasks      | elapsed:  1.3min\n",
            "[Parallel(n_jobs=-1)]: Done  21 tasks      | elapsed:  1.7min\n",
            "[Parallel(n_jobs=-1)]: Done  25 out of  25 | elapsed:  2.0min remaining:    0.0s\n",
            "[Parallel(n_jobs=-1)]: Done  25 out of  25 | elapsed:  2.0min finished\n"
          ]
        }
      ]
    },
    {
      "cell_type": "code",
      "metadata": {
        "colab": {
          "base_uri": "https://localhost:8080/"
        },
        "id": "EAcbUFbDEVkP",
        "outputId": "e491f091-1019-4935-db34-68f5c52a5447"
      },
      "source": [
        "gbc = GradientBoostingClassifier()\n",
        "parameters = {\n",
        "    \"n_estimators\":[5,50,250,500],\n",
        "    \"max_depth\":[1,3,5,7,9],\n",
        "    \"learning_rate\":[0.01,0.1,1,10,100]\n",
        "}\n",
        "\n",
        "gbx_gs = RandomizedSearchCV(gbc,parameters,cv=5)\n",
        "gbx_gs.fit(X,y.values.ravel())"
      ],
      "execution_count": 26,
      "outputs": [
        {
          "output_type": "execute_result",
          "data": {
            "text/plain": [
              "RandomizedSearchCV(cv=5, error_score=nan,\n",
              "                   estimator=GradientBoostingClassifier(ccp_alpha=0.0,\n",
              "                                                        criterion='friedman_mse',\n",
              "                                                        init=None,\n",
              "                                                        learning_rate=0.1,\n",
              "                                                        loss='deviance',\n",
              "                                                        max_depth=3,\n",
              "                                                        max_features=None,\n",
              "                                                        max_leaf_nodes=None,\n",
              "                                                        min_impurity_decrease=0.0,\n",
              "                                                        min_impurity_split=None,\n",
              "                                                        min_samples_leaf=1,\n",
              "                                                        min_samples_split=2,\n",
              "                                                        min_weight_fraction_leaf=0.0,\n",
              "                                                        n_estimators=100,\n",
              "                                                        n_ite...\n",
              "                                                        presort='deprecated',\n",
              "                                                        random_state=None,\n",
              "                                                        subsample=1.0,\n",
              "                                                        tol=0.0001,\n",
              "                                                        validation_fraction=0.1,\n",
              "                                                        verbose=0,\n",
              "                                                        warm_start=False),\n",
              "                   iid='deprecated', n_iter=10, n_jobs=None,\n",
              "                   param_distributions={'learning_rate': [0.01, 0.1, 1, 10,\n",
              "                                                          100],\n",
              "                                        'max_depth': [1, 3, 5, 7, 9],\n",
              "                                        'n_estimators': [5, 50, 250, 500]},\n",
              "                   pre_dispatch='2*n_jobs', random_state=None, refit=True,\n",
              "                   return_train_score=False, scoring=None, verbose=0)"
            ]
          },
          "metadata": {},
          "execution_count": 26
        }
      ]
    },
    {
      "cell_type": "code",
      "metadata": {
        "id": "kitaR50wRz7U",
        "colab": {
          "base_uri": "https://localhost:8080/"
        },
        "outputId": "b2499996-82a4-4bf1-cde8-733972e0c02b"
      },
      "source": [
        "print('RandomForestClassifier best_params:',model_rfrs.best_params_)\n",
        "print('RandomForestClassifier best_score:',model_rfrs.best_score_)\n",
        "print()\n",
        "print('GradientBoostingClassifier best_params:',gbx_gs.best_params_)\n",
        "print('GradientBoostingClassifier best_score:',gbx_gs.best_score_)"
      ],
      "execution_count": 75,
      "outputs": [
        {
          "output_type": "stream",
          "name": "stdout",
          "text": [
            "RandomForestClassifier best_params: {'max_depth': None, 'max_features': 0.596850157946487, 'n_estimators': 123}\n",
            "RandomForestClassifier best_score: 0.3699303602747589\n",
            "\n",
            "GradientBoostingClassifier best_params: {'n_estimators': 5, 'max_depth': 1, 'learning_rate': 0.1}\n",
            "GradientBoostingClassifier best_score: 0.5983431462746275\n"
          ]
        }
      ]
    },
    {
      "cell_type": "markdown",
      "metadata": {
        "id": "jb9bNYaDlwKz"
      },
      "source": [
        "#Check Metrics"
      ]
    },
    {
      "cell_type": "markdown",
      "metadata": {
        "id": "gWr5Z_43m6cu"
      },
      "source": [
        "#####**Accuracy Score**"
      ]
    },
    {
      "cell_type": "code",
      "metadata": {
        "colab": {
          "base_uri": "https://localhost:8080/"
        },
        "id": "BCDtSvdqnICm",
        "outputId": "9207f469-9910-489e-f9f8-0c4f15d08670"
      },
      "source": [
        "print('Training Accuracy:', model_xgb.score(X_train, y_train))\n",
        "print('Validation Accuracy:', model_xgb.score(X_val, y_val))"
      ],
      "execution_count": 78,
      "outputs": [
        {
          "output_type": "stream",
          "name": "stdout",
          "text": [
            "Training Accuracy: 0.6572519083969466\n",
            "Validation Accuracy: 0.6533097418817652\n"
          ]
        }
      ]
    },
    {
      "cell_type": "markdown",
      "metadata": {
        "id": "Rs9OHqJVnIeA"
      },
      "source": [
        "#####**Confusion Matrix**"
      ]
    },
    {
      "cell_type": "code",
      "metadata": {
        "colab": {
          "base_uri": "https://localhost:8080/",
          "height": 297
        },
        "id": "i1LN7M9vigr3",
        "outputId": "62f7a2ea-0016-4a8b-8805-29d9a960296c"
      },
      "source": [
        "plot_confusion_matrix(\n",
        "    model_xgb,\n",
        "    X,\n",
        "    y,\n",
        "    values_format = '.0f',\n",
        "    #display_labels = ['no repair needed', 'needs repair']\n",
        "    \n",
        ")"
      ],
      "execution_count": 29,
      "outputs": [
        {
          "output_type": "execute_result",
          "data": {
            "text/plain": [
              "<sklearn.metrics._plot.confusion_matrix.ConfusionMatrixDisplay at 0x7f065788d7d0>"
            ]
          },
          "metadata": {},
          "execution_count": 29
        },
        {
          "output_type": "display_data",
          "data": {
            "image/png": "[encoded data removed]",
            "text/plain": [
              "<Figure size 432x288 with 2 Axes>"
            ]
          },
          "metadata": {
            "needs_background": "light"
          }
        }
      ]
    },
    {
      "cell_type": "code",
      "metadata": {
        "colab": {
          "base_uri": "https://localhost:8080/"
        },
        "id": "QlXQS9q_yAza",
        "outputId": "1895ddb8-2504-4ece-a356-0529d67a5d5b"
      },
      "source": [
        "y.value_counts()"
      ],
      "execution_count": 30,
      "outputs": [
        {
          "output_type": "execute_result",
          "data": {
            "text/plain": [
              "0    12012\n",
              "1    12006\n",
              "Name: Urgent Accidents, dtype: int64"
            ]
          },
          "metadata": {},
          "execution_count": 30
        }
      ]
    },
    {
      "cell_type": "markdown",
      "metadata": {
        "id": "ToOJdvr0nnR5"
      },
      "source": [
        "#####**Classification Report**"
      ]
    },
    {
      "cell_type": "code",
      "metadata": {
        "colab": {
          "base_uri": "https://localhost:8080/"
        },
        "id": "Alih96bdi89u",
        "outputId": "780ced1d-fba4-4efc-adb3-0d680bd23fb4"
      },
      "source": [
        "print(classification_report(y_val,\n",
        "                      model_xgb.predict(X_val),\n",
        "                      target_names =['no repair needed','needs repair']))"
      ],
      "execution_count": 31,
      "outputs": [
        {
          "output_type": "stream",
          "name": "stdout",
          "text": [
            "                  precision    recall  f1-score   support\n",
            "\n",
            "no repair needed       0.82      0.39      0.53      4791\n",
            "    needs repair       0.60      0.92      0.73      4817\n",
            "\n",
            "        accuracy                           0.65      9608\n",
            "       macro avg       0.71      0.65      0.63      9608\n",
            "    weighted avg       0.71      0.65      0.63      9608\n",
            "\n"
          ]
        }
      ]
    },
    {
      "cell_type": "markdown",
      "metadata": {
        "id": "wtQP6LRPmRcn"
      },
      "source": [
        "#Download chosen model"
      ]
    },
    {
      "cell_type": "code",
      "metadata": {
        "colab": {
          "base_uri": "https://localhost:8080/"
        },
        "id": "LWVYwqK6j6Jf",
        "outputId": "0956167c-8255-421f-8aa8-d4e61694f405"
      },
      "source": [
        "import joblib\n",
        "from joblib import dump\n",
        "dump(model_xgb,'pipeline.joblib',compress=True)"
      ],
      "execution_count": 32,
      "outputs": [
        {
          "output_type": "execute_result",
          "data": {
            "text/plain": [
              "['pipeline.joblib']"
            ]
          },
          "metadata": {},
          "execution_count": 32
        }
      ]
    },
    {
      "cell_type": "code",
      "metadata": {
        "id": "cXf-RaFHBzsZ"
      },
      "source": [
        ""
      ],
      "execution_count": 32,
      "outputs": []
    },
    {
      "cell_type": "code",
      "metadata": {
        "colab": {
          "base_uri": "https://localhost:8080/",
          "height": 129
        },
        "id": "qeAoi3SG92BY",
        "outputId": "4e8e57f4-426d-41d2-9c6a-04d36f428b0b"
      },
      "source": [
        "row = X_val.iloc[[-100]] # Dataframe with a single row (double brackets keeps it a dataframe)\n",
        "row"
      ],
      "execution_count": 33,
      "outputs": [
        {
          "output_type": "execute_result",
          "data": {
            "text/html": [
              "<div>\n",
              "<style scoped>\n",
              "    .dataframe tbody tr th:only-of-type {\n",
              "        vertical-align: middle;\n",
              "    }\n",
              "\n",
              "    .dataframe tbody tr th {\n",
              "        vertical-align: top;\n",
              "    }\n",
              "\n",
              "    .dataframe thead th {\n",
              "        text-align: right;\n",
              "    }\n",
              "</style>\n",
              "<table border=\"1\" class=\"dataframe\">\n",
              "  <thead>\n",
              "    <tr style=\"text-align: right;\">\n",
              "      <th></th>\n",
              "      <th>Latitude</th>\n",
              "      <th>Longitude</th>\n",
              "      <th>Temperature</th>\n",
              "      <th>Precipitation</th>\n",
              "      <th>Snow Depth</th>\n",
              "      <th>Wind Speed</th>\n",
              "      <th>Visibility</th>\n",
              "    </tr>\n",
              "    <tr>\n",
              "      <th>Date time</th>\n",
              "      <th></th>\n",
              "      <th></th>\n",
              "      <th></th>\n",
              "      <th></th>\n",
              "      <th></th>\n",
              "      <th></th>\n",
              "      <th></th>\n",
              "    </tr>\n",
              "  </thead>\n",
              "  <tbody>\n",
              "    <tr>\n",
              "      <th>02/09/2021</th>\n",
              "      <td>30.46065</td>\n",
              "      <td>-97.840575</td>\n",
              "      <td>56.6</td>\n",
              "      <td>0.0</td>\n",
              "      <td>0.0</td>\n",
              "      <td>13.0</td>\n",
              "      <td>7.6</td>\n",
              "    </tr>\n",
              "  </tbody>\n",
              "</table>\n",
              "</div>"
            ],
            "text/plain": [
              "            Latitude  Longitude  ...  Wind Speed  Visibility\n",
              "Date time                        ...                        \n",
              "02/09/2021  30.46065 -97.840575  ...        13.0         7.6\n",
              "\n",
              "[1 rows x 7 columns]"
            ]
          },
          "metadata": {},
          "execution_count": 33
        }
      ]
    },
    {
      "cell_type": "code",
      "metadata": {
        "colab": {
          "base_uri": "https://localhost:8080/"
        },
        "id": "HOsYK0sm44bu",
        "outputId": "f91230cc-13d2-48ca-81c2-4af157d5663b"
      },
      "source": [
        "y_val.iloc[[777]]"
      ],
      "execution_count": 34,
      "outputs": [
        {
          "output_type": "execute_result",
          "data": {
            "text/plain": [
              "Date time\n",
              "04/21/2021    1\n",
              "Name: Urgent Accidents, dtype: int64"
            ]
          },
          "metadata": {},
          "execution_count": 34
        }
      ]
    },
    {
      "cell_type": "code",
      "metadata": {
        "colab": {
          "base_uri": "https://localhost:8080/"
        },
        "id": "XY4r0-uDhZ7h",
        "outputId": "8ccae3bd-6385-4251-cbff-032cbc608b7c"
      },
      "source": [
        "y_val"
      ],
      "execution_count": 35,
      "outputs": [
        {
          "output_type": "execute_result",
          "data": {
            "text/plain": [
              "Date time\n",
              "12/16/2020    1\n",
              "04/22/2021    1\n",
              "08/03/2021    0\n",
              "05/18/2021    0\n",
              "02/03/2021    0\n",
              "             ..\n",
              "07/02/2021    1\n",
              "05/15/2021    0\n",
              "12/06/2020    1\n",
              "01/12/2021    1\n",
              "07/19/2021    1\n",
              "Name: Urgent Accidents, Length: 9608, dtype: int64"
            ]
          },
          "metadata": {},
          "execution_count": 35
        }
      ]
    },
    {
      "cell_type": "code",
      "metadata": {
        "colab": {
          "base_uri": "https://localhost:8080/"
        },
        "id": "6JgeRYtK97Hr",
        "outputId": "534896db-a6e9-4b5c-f368-7b62cd722da8"
      },
      "source": [
        "model_xgb.predict(row)"
      ],
      "execution_count": 36,
      "outputs": [
        {
          "output_type": "execute_result",
          "data": {
            "text/plain": [
              "array([0])"
            ]
          },
          "metadata": {},
          "execution_count": 36
        }
      ]
    },
    {
      "cell_type": "markdown",
      "metadata": {
        "id": "6YtksiLVcDrF"
      },
      "source": [
        "#Fit Gradient Boosting model"
      ]
    },
    {
      "cell_type": "code",
      "metadata": {
        "id": "tVjM5fzr3KSV",
        "colab": {
          "base_uri": "https://localhost:8080/"
        },
        "outputId": "ad5e6e0e-6232-4c45-93b8-bf9c12cc3252"
      },
      "source": [
        "from sklearn.metrics import r2_score\n",
        "from xgboost import XGBRegressor\n",
        "\n",
        "gb = make_pipeline(\n",
        "    ce.OrdinalEncoder(), \n",
        "    XGBRegressor(n_estimators=200, objective='reg:squarederror', n_jobs=-1)\n",
        ")\n",
        "\n",
        "gb.fit(X_train, y_train)\n",
        "y_pred = gb.predict(X_val)\n",
        "print('Gradient Boosting R^2', r2_score(y_val, y_pred))"
      ],
      "execution_count": 37,
      "outputs": [
        {
          "output_type": "stream",
          "name": "stdout",
          "text": [
            "Gradient Boosting R^2 0.176450863389082\n"
          ]
        }
      ]
    },
    {
      "cell_type": "markdown",
      "metadata": {
        "id": "kFzuyuVLdMiB"
      },
      "source": [
        "#Explaining Gradient Boosting\n",
        "To see the relationship between individual features and the target, we can use partial dependence plots."
      ]
    },
    {
      "cell_type": "code",
      "metadata": {
        "id": "BX5JYceS45sL",
        "colab": {
          "base_uri": "https://localhost:8080/",
          "height": 321
        },
        "outputId": "e23c59a3-73b6-4fad-9736-2a81a4354ed6"
      },
      "source": [
        "pd.Series(gb.named_steps['xgbregressor'].feature_importances_, index=X_val.columns).plot(kind='bar');"
      ],
      "execution_count": 38,
      "outputs": [
        {
          "output_type": "display_data",
          "data": {
            "image/png": "[encoded data removed]",
            "text/plain": [
              "<Figure size 432x288 with 1 Axes>"
            ]
          },
          "metadata": {
            "needs_background": "light"
          }
        }
      ]
    },
    {
      "cell_type": "code",
      "metadata": {
        "id": "u07iTJ_WkBsj"
      },
      "source": [
        "from pdpbox.pdp import pdp_isolate, pdp_plot\n",
        "\n",
        "feature = 'Snow Depth'\n",
        "\n",
        "isolated = pdp_isolate(\n",
        "    model=gb, \n",
        "    dataset=X_val, \n",
        "    model_features=X_val.columns, \n",
        "    feature=feature\n",
        ")"
      ],
      "execution_count": 39,
      "outputs": []
    },
    {
      "cell_type": "code",
      "metadata": {
        "colab": {
          "base_uri": "https://localhost:8080/"
        },
        "id": "DY8zZgq7u927",
        "outputId": "e8ebee0f-0382-4f95-aa52-029969ac54b5"
      },
      "source": [
        "X_train['Snow Depth'].shape"
      ],
      "execution_count": 54,
      "outputs": [
        {
          "output_type": "execute_result",
          "data": {
            "text/plain": [
              "(14410,)"
            ]
          },
          "metadata": {},
          "execution_count": 54
        }
      ]
    },
    {
      "cell_type": "code",
      "metadata": {
        "colab": {
          "base_uri": "https://localhost:8080/"
        },
        "id": "Ht6AYKHEvO1G",
        "outputId": "11fe9ee8-07e8-4de0-9ab9-fff279815c4b"
      },
      "source": [
        "(14410-13895)/14410"
      ],
      "execution_count": 55,
      "outputs": [
        {
          "output_type": "execute_result",
          "data": {
            "text/plain": [
              "0.03573907009021513"
            ]
          },
          "metadata": {},
          "execution_count": 55
        }
      ]
    },
    {
      "cell_type": "code",
      "metadata": {
        "colab": {
          "base_uri": "https://localhost:8080/"
        },
        "id": "DEWLO0UxunmO",
        "outputId": "464c253a-645e-470d-ff56-15d6d37d5ab8"
      },
      "source": [
        "X_train['Snow Depth'].value_counts()"
      ],
      "execution_count": 51,
      "outputs": [
        {
          "output_type": "execute_result",
          "data": {
            "text/plain": [
              "0.00    13895\n",
              "3.62      109\n",
              "1.28       57\n",
              "5.30       51\n",
              "0.80       48\n",
              "2.11       47\n",
              "5.80       45\n",
              "2.77       37\n",
              "3.76       36\n",
              "4.38       32\n",
              "0.43       32\n",
              "0.70       21\n",
              "Name: Snow Depth, dtype: int64"
            ]
          },
          "metadata": {},
          "execution_count": 51
        }
      ]
    },
    {
      "cell_type": "code",
      "metadata": {
        "id": "ozK4JGlGw0nY"
      },
      "source": [
        "from pdpbox.pdp import pdp_isolate, pdp_plot\n",
        "\n",
        "feature = 'Longitude'\n",
        "\n",
        "isolated = pdp_isolate(\n",
        "    model=gb, \n",
        "    dataset=X_val, \n",
        "    model_features=X_val.columns, \n",
        "    feature=feature\n",
        ")"
      ],
      "execution_count": 41,
      "outputs": []
    },
    {
      "cell_type": "code",
      "metadata": {
        "colab": {
          "base_uri": "https://localhost:8080/",
          "height": 453
        },
        "id": "WXZU6O-Pewa3",
        "outputId": "8ea2eb65-4113-4c16-e3e8-d9e09dd6742d"
      },
      "source": [
        "pdp_plot(isolated, feature_name=feature);"
      ],
      "execution_count": 42,
      "outputs": [
        {
          "output_type": "display_data",
          "data": {
            "image/png": "[encoded data removed]",
            "text/plain": [
              "<Figure size 1080x684 with 2 Axes>"
            ]
          },
          "metadata": {
            "needs_background": "light"
          }
        }
      ]
    },
    {
      "cell_type": "code",
      "metadata": {
        "id": "c9fpYXs5hbJF"
      },
      "source": [
        "from pdpbox.pdp import pdp_isolate, pdp_plot\n",
        "\n",
        "feature = 'Latitude'\n",
        "\n",
        "isolated = pdp_isolate(\n",
        "    model=gb, \n",
        "    dataset=X_val, \n",
        "    model_features=X_val.columns, \n",
        "    feature=feature\n",
        ")"
      ],
      "execution_count": 43,
      "outputs": []
    },
    {
      "cell_type": "code",
      "metadata": {
        "colab": {
          "base_uri": "https://localhost:8080/",
          "height": 460
        },
        "id": "yNqcn4Vje7yX",
        "outputId": "c36a347c-e518-479c-9bdd-db581bcd1284"
      },
      "source": [
        "pdp_plot(isolated, feature_name=feature);"
      ],
      "execution_count": 44,
      "outputs": [
        {
          "output_type": "display_data",
          "data": {
            "image/png": "[encoded data removed]",
            "text/plain": [
              "<Figure size 1080x684 with 2 Axes>"
            ]
          },
          "metadata": {
            "needs_background": "light"
          }
        }
      ]
    },
    {
      "cell_type": "code",
      "metadata": {
        "id": "8TkPDo2QBz3O"
      },
      "source": [
        "from pdpbox.pdp import pdp_interact, pdp_interact_plot\n",
        "features = ['Longitude', 'Latitude']\n",
        "\n",
        "interaction = pdp_interact(\n",
        "    model=model_xgb, \n",
        "    dataset=X_val, \n",
        "    model_features=X_val.columns,\n",
        "    features=features\n",
        ")"
      ],
      "execution_count": 45,
      "outputs": []
    },
    {
      "cell_type": "code",
      "metadata": {
        "colab": {
          "base_uri": "https://localhost:8080/",
          "height": 599
        },
        "id": "PgwPO6GfEKtv",
        "outputId": "b5752403-8e46-41d4-e071-dd221831c2a6"
      },
      "source": [
        "pdp_interact_plot(interaction, plot_type='grid', \n",
        "                  feature_names=features);"
      ],
      "execution_count": 46,
      "outputs": [
        {
          "output_type": "stream",
          "name": "stderr",
          "text": [
            "findfont: Font family ['Arial'] not found. Falling back to DejaVu Sans.\n"
          ]
        },
        {
          "output_type": "display_data",
          "data": {
            "image/png": "[encoded data removed]",
            "text/plain": [
              "<Figure size 540x684 with 3 Axes>"
            ]
          },
          "metadata": {
            "needs_background": "light"
          }
        }
      ]
    },
    {
      "cell_type": "markdown",
      "metadata": {
        "id": "7xl94x4SodM-"
      },
      "source": [
        "#Using the Model"
      ]
    },
    {
      "cell_type": "code",
      "metadata": {
        "colab": {
          "base_uri": "https://localhost:8080/"
        },
        "id": "T1_tR34ww73z",
        "outputId": "8a03b2d4-4127-4b81-e6b7-8e005b731829"
      },
      "source": [
        "y_val.value_counts()"
      ],
      "execution_count": 47,
      "outputs": [
        {
          "output_type": "execute_result",
          "data": {
            "text/plain": [
              "1    4817\n",
              "0    4791\n",
              "Name: Urgent Accidents, dtype: int64"
            ]
          },
          "metadata": {},
          "execution_count": 47
        }
      ]
    },
    {
      "cell_type": "code",
      "metadata": {
        "colab": {
          "base_uri": "https://localhost:8080/",
          "height": 455
        },
        "id": "XC4W5YZ8ihIQ",
        "outputId": "4ce4a96e-5a10-4848-99da-8ff069bd28f2"
      },
      "source": [
        "data = {'y_val': y_val,\n",
        "        'y_pred': model_xgb.predict(X_val) }\n",
        "results = pd.DataFrame(data)\n",
        "results"
      ],
      "execution_count": 48,
      "outputs": [
        {
          "output_type": "execute_result",
          "data": {
            "text/html": [
              "<div>\n",
              "<style scoped>\n",
              "    .dataframe tbody tr th:only-of-type {\n",
              "        vertical-align: middle;\n",
              "    }\n",
              "\n",
              "    .dataframe tbody tr th {\n",
              "        vertical-align: top;\n",
              "    }\n",
              "\n",
              "    .dataframe thead th {\n",
              "        text-align: right;\n",
              "    }\n",
              "</style>\n",
              "<table border=\"1\" class=\"dataframe\">\n",
              "  <thead>\n",
              "    <tr style=\"text-align: right;\">\n",
              "      <th></th>\n",
              "      <th>y_val</th>\n",
              "      <th>y_pred</th>\n",
              "    </tr>\n",
              "    <tr>\n",
              "      <th>Date time</th>\n",
              "      <th></th>\n",
              "      <th></th>\n",
              "    </tr>\n",
              "  </thead>\n",
              "  <tbody>\n",
              "    <tr>\n",
              "      <th>12/16/2020</th>\n",
              "      <td>1</td>\n",
              "      <td>1</td>\n",
              "    </tr>\n",
              "    <tr>\n",
              "      <th>04/22/2021</th>\n",
              "      <td>1</td>\n",
              "      <td>1</td>\n",
              "    </tr>\n",
              "    <tr>\n",
              "      <th>08/03/2021</th>\n",
              "      <td>0</td>\n",
              "      <td>1</td>\n",
              "    </tr>\n",
              "    <tr>\n",
              "      <th>05/18/2021</th>\n",
              "      <td>0</td>\n",
              "      <td>1</td>\n",
              "    </tr>\n",
              "    <tr>\n",
              "      <th>02/03/2021</th>\n",
              "      <td>0</td>\n",
              "      <td>1</td>\n",
              "    </tr>\n",
              "    <tr>\n",
              "      <th>...</th>\n",
              "      <td>...</td>\n",
              "      <td>...</td>\n",
              "    </tr>\n",
              "    <tr>\n",
              "      <th>07/02/2021</th>\n",
              "      <td>1</td>\n",
              "      <td>1</td>\n",
              "    </tr>\n",
              "    <tr>\n",
              "      <th>05/15/2021</th>\n",
              "      <td>0</td>\n",
              "      <td>1</td>\n",
              "    </tr>\n",
              "    <tr>\n",
              "      <th>12/06/2020</th>\n",
              "      <td>1</td>\n",
              "      <td>1</td>\n",
              "    </tr>\n",
              "    <tr>\n",
              "      <th>01/12/2021</th>\n",
              "      <td>1</td>\n",
              "      <td>1</td>\n",
              "    </tr>\n",
              "    <tr>\n",
              "      <th>07/19/2021</th>\n",
              "      <td>1</td>\n",
              "      <td>1</td>\n",
              "    </tr>\n",
              "  </tbody>\n",
              "</table>\n",
              "<p>9608 rows × 2 columns</p>\n",
              "</div>"
            ],
            "text/plain": [
              "            y_val  y_pred\n",
              "Date time                \n",
              "12/16/2020      1       1\n",
              "04/22/2021      1       1\n",
              "08/03/2021      0       1\n",
              "05/18/2021      0       1\n",
              "02/03/2021      0       1\n",
              "...           ...     ...\n",
              "07/02/2021      1       1\n",
              "05/15/2021      0       1\n",
              "12/06/2020      1       1\n",
              "01/12/2021      1       1\n",
              "07/19/2021      1       1\n",
              "\n",
              "[9608 rows x 2 columns]"
            ]
          },
          "metadata": {},
          "execution_count": 48
        }
      ]
    },
    {
      "cell_type": "code",
      "metadata": {
        "colab": {
          "base_uri": "https://localhost:8080/"
        },
        "id": "z6mofoGTCthW",
        "outputId": "724f8df3-1884-4332-9376-8021d369ccb5"
      },
      "source": [
        "results.value_counts()"
      ],
      "execution_count": 49,
      "outputs": [
        {
          "output_type": "execute_result",
          "data": {
            "text/plain": [
              "y_val  y_pred\n",
              "1      1         4413\n",
              "0      1         2927\n",
              "       0         1864\n",
              "1      0          404\n",
              "dtype: int64"
            ]
          },
          "metadata": {},
          "execution_count": 49
        }
      ]
    },
    {
      "cell_type": "code",
      "metadata": {
        "id": "J5acN0mpog61"
      },
      "source": [
        ""
      ],
      "execution_count": 49,
      "outputs": []
    }
  ]
}